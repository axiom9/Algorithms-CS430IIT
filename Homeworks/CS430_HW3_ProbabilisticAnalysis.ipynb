{
 "cells": [
  {
   "cell_type": "markdown",
   "id": "cf8043fb",
   "metadata": {},
   "source": [
    "### Anas Puthawala - CS 430 Homework 3"
   ]
  },
  {
   "cell_type": "markdown",
   "id": "eafae085",
   "metadata": {},
   "source": [
    "### Problem 1b"
   ]
  },
  {
   "cell_type": "code",
   "execution_count": 1,
   "id": "0fb7d6b6",
   "metadata": {},
   "outputs": [],
   "source": [
    "import numpy as np\n",
    "import matplotlib.pyplot as plt\n",
    "import random\n",
    "from datetime import datetime\n",
    "import timeit\n",
    "\n",
    "import seaborn as sns"
   ]
  },
  {
   "cell_type": "code",
   "execution_count": 2,
   "id": "410d2dea",
   "metadata": {},
   "outputs": [],
   "source": [
    "def make_exp(tau):\n",
    "    '''Inputs: np array of 1000 random uniform variables ranging from 0-1\n",
    "       Outputs: np array of 1000 variables converted to exponential distribution from the U \n",
    "       and the U itself'''\n",
    "    \n",
    "    # Setting seed\n",
    "#     random.seed(datetime.now())\n",
    "    random.seed(21)\n",
    "    \n",
    "    \n",
    "    #Random uniform distribution\n",
    "    U = np.random.uniform(low=0,high=1,size=1000)\n",
    "\n",
    "    return np.array((-1*tau)*np.log(U)), np.array(U)"
   ]
  },
  {
   "cell_type": "code",
   "execution_count": 3,
   "id": "132a2141",
   "metadata": {
    "scrolled": true
   },
   "outputs": [],
   "source": [
    "U_exp, U = make_exp(tau=1) # Letting tau = 1 in this case"
   ]
  },
  {
   "cell_type": "markdown",
   "id": "b95b1385",
   "metadata": {},
   "source": [
    "#### Plotting U"
   ]
  },
  {
   "cell_type": "code",
   "execution_count": 50,
   "id": "3da9a888",
   "metadata": {},
   "outputs": [
    {
     "data": {
      "image/png": "[encoded data removed]",
      "text/plain": [
       "<Figure size 432x288 with 1 Axes>"
      ]
     },
     "metadata": {
      "needs_background": "light"
     },
     "output_type": "display_data"
    }
   ],
   "source": [
    "count, bins, ignored = plt.hist(U, 20, density=True)\n",
    "plt.plot(bins, np.ones_like(bins), linewidth=2, color='r')\n",
    "plt.title('Uniform distribution')\n",
    "plt.show()"
   ]
  },
  {
   "cell_type": "markdown",
   "id": "e76bb86b",
   "metadata": {},
   "source": [
    "#### Plotting U_exp"
   ]
  },
  {
   "cell_type": "code",
   "execution_count": 49,
   "id": "f6e4f715",
   "metadata": {},
   "outputs": [
    {
     "name": "stderr",
     "output_type": "stream",
     "text": [
      "/home/yueqingliang/miniconda3/envs/pytorch/lib/python3.8/site-packages/seaborn/distributions.py:2557: FutureWarning: `distplot` is a deprecated function and will be removed in a future version. Please adapt your code to use either `displot` (a figure-level function with similar flexibility) or `histplot` (an axes-level function for histograms).\n",
      "  warnings.warn(msg, FutureWarning)\n"
     ]
    },
    {
     "data": {
      "image/png": "[encoded data removed]",
      "text/plain": [
       "<Figure size 432x288 with 1 Axes>"
      ]
     },
     "metadata": {
      "needs_background": "light"
     },
     "output_type": "display_data"
    }
   ],
   "source": [
    "sns.distplot(U_exp)\n",
    "plt.title('Exponential distribution from Uniform Distribution')\n",
    "plt.show()"
   ]
  },
  {
   "cell_type": "code",
   "execution_count": 11,
   "id": "c697b9c8",
   "metadata": {},
   "outputs": [
    {
     "name": "stdout",
     "output_type": "stream",
     "text": [
      "The mean for U_exp is: 0.9665994797438207\n",
      "The mean for U is: 0.5069054610786418\n"
     ]
    }
   ],
   "source": [
    "print(f'The mean for U_exp is: {np.mean(U_exp)}')\n",
    "print(f'The mean for U is: {np.mean(U)}')"
   ]
  },
  {
   "cell_type": "markdown",
   "id": "90bfc35c",
   "metadata": {},
   "source": [
    "### Here's how a exponential distribution should look like:\n",
    "(Source: Google)"
   ]
  },
  {
   "cell_type": "code",
   "execution_count": 12,
   "id": "4b591eb8",
   "metadata": {
    "scrolled": true
   },
   "outputs": [
    {
     "data": {
      "text/html": [
       "<img src=\"https://upload.wikimedia.org/wikipedia/commons/thumb/8/86/WrappedExponentialPDF.png/325px-WrappedExponentialPDF.png\"/>"
      ],
      "text/plain": [
       "<IPython.core.display.Image object>"
      ]
     },
     "execution_count": 12,
     "metadata": {},
     "output_type": "execute_result"
    }
   ],
   "source": [
    "from IPython.display import Image\n",
    "Image(url='https://upload.wikimedia.org/wikipedia/commons/thumb/8/86/WrappedExponentialPDF.png/325px-WrappedExponentialPDF.png')"
   ]
  },
  {
   "cell_type": "markdown",
   "id": "2681bd38",
   "metadata": {},
   "source": [
    "### Problem 1c"
   ]
  },
  {
   "cell_type": "markdown",
   "id": "08c0d6f9",
   "metadata": {},
   "source": [
    "#### Generate T, an np array populated by pulling values from the exponential distribution"
   ]
  },
  {
   "cell_type": "markdown",
   "id": "be140342",
   "metadata": {},
   "source": [
    "Assuming \n",
    "<center>$\\tau$$_1$ = 10</center>\n",
    "<center>$\\tau$$_2$ = 15</center>\n",
    "<center>$\\tau$$_3$ = 25</center>"
   ]
  },
  {
   "cell_type": "code",
   "execution_count": 13,
   "id": "d0750451",
   "metadata": {},
   "outputs": [],
   "source": [
    "def make_exp2(tau):\n",
    "    '''Inputs: np array of 1000 random uniform variables ranging from 0-1\n",
    "       Outputs: np array of 1000 variables converted to exponential distribution from the random uniform dist.'''\n",
    "    \n",
    "    # Setting seed\n",
    "    random.seed(datetime.now())\n",
    "    \n",
    "    #Random uniform distribution\n",
    "    U = np.random.uniform(low=0,high=1,size=1000)\n",
    "\n",
    "    return np.array((-1*tau)*np.log(U))"
   ]
  },
  {
   "cell_type": "code",
   "execution_count": 14,
   "id": "7ef4dd52",
   "metadata": {},
   "outputs": [],
   "source": [
    "taus = [10, 15, 25]\n",
    "\n",
    "T = np.array([make_exp2(tau) for tau in taus])"
   ]
  },
  {
   "cell_type": "code",
   "execution_count": 15,
   "id": "eed979ed",
   "metadata": {},
   "outputs": [
    {
     "name": "stdout",
     "output_type": "stream",
     "text": [
      "The shape of T is: (3, 1000)\n"
     ]
    }
   ],
   "source": [
    "print(f'The shape of T is: {T.shape}')"
   ]
  },
  {
   "cell_type": "code",
   "execution_count": 16,
   "id": "4560d284",
   "metadata": {},
   "outputs": [
    {
     "name": "stdout",
     "output_type": "stream",
     "text": [
      "The mean of the exponentially distributed sequences corresponding to Tau = 10 is 10.853588151894405\n",
      "\n",
      "The mean of the exponentially distributed sequences corresponding to Tau = 15 is 15.064248883488089\n",
      "\n",
      "The mean of the exponentially distributed sequences corresponding to Tau = 25 is 24.782254355789178\n",
      "\n"
     ]
    }
   ],
   "source": [
    "print(f'The mean of the exponentially distributed sequences corresponding to Tau = {taus[0]} is {np.mean(T[0])}\\n')\n",
    "print(f'The mean of the exponentially distributed sequences corresponding to Tau = {taus[1]} is {np.mean(T[1])}\\n')\n",
    "print(f'The mean of the exponentially distributed sequences corresponding to Tau = {taus[2]} is {np.mean(T[2])}\\n')"
   ]
  },
  {
   "cell_type": "code",
   "execution_count": 17,
   "id": "f82fd29e",
   "metadata": {},
   "outputs": [],
   "source": [
    "seq1, seq2, seq3 = T[0], T[1], T[2]"
   ]
  },
  {
   "cell_type": "markdown",
   "id": "091356bb",
   "metadata": {},
   "source": [
    "### Sorting"
   ]
  },
  {
   "cell_type": "markdown",
   "id": "8687b081",
   "metadata": {},
   "source": [
    "<center>We will use Python implementation of QuickSort using Hoare's partition scheme.</center>"
   ]
  },
  {
   "cell_type": "code",
   "execution_count": 18,
   "id": "5023a016",
   "metadata": {},
   "outputs": [],
   "source": [
    "def partition(arr, low, high):\n",
    "    '''Hoares partitioning scheme'''\n",
    " \n",
    "    pivot = arr[low]\n",
    "    i = low - 1\n",
    "    j = high + 1\n",
    " \n",
    "    while (True):\n",
    " \n",
    "        # Find leftmost element greater than\n",
    "        # or equal to pivot\n",
    "        i += 1\n",
    "        while (arr[i] < pivot):\n",
    "            i += 1\n",
    " \n",
    "        # Find rightmost element smaller than\n",
    "        # or equal to pivot\n",
    "        j -= 1\n",
    "        while (arr[j] > pivot):\n",
    "            j -= 1\n",
    " \n",
    "        # If two pointers met.\n",
    "        if (i >= j):\n",
    "            return j\n",
    " \n",
    "        arr[i], arr[j] = arr[j], arr[i]"
   ]
  },
  {
   "cell_type": "code",
   "execution_count": 19,
   "id": "090bc6d2",
   "metadata": {},
   "outputs": [],
   "source": [
    "def qs(arr, low, high):\n",
    "    ''' pi is partitioning index, arr[p] is now\n",
    "    at right place '''\n",
    "    if (low < high):\n",
    " \n",
    "        pi = partition(arr, low, high)\n",
    " \n",
    "        # Separately sort elements before\n",
    "        # partition and after partition\n",
    "        qs(arr, low, pi)\n",
    "        qs(arr, pi + 1, high)"
   ]
  },
  {
   "cell_type": "code",
   "execution_count": 20,
   "id": "48a9c8a9",
   "metadata": {},
   "outputs": [],
   "source": [
    "def sort(arr):\n",
    "    '''Input: Array to be sorted\n",
    "       Output: None'''\n",
    "    is_sorted = lambda a: np.all(a[:-1] <= a[1:])\n",
    "    \n",
    "    if not is_sorted(arr):\n",
    "        print('Sorting...')\n",
    "        start= timeit.default_timer()\n",
    "        qs(arr, low=0, high=len(seq1)-1)\n",
    "        end = timeit.default_timer()\n",
    "        \n",
    "        print(f'Sorting complete\\nTime elapsed: {end-start}')\n",
    "    else:\n",
    "        print('Already sorted')"
   ]
  },
  {
   "cell_type": "code",
   "execution_count": 21,
   "id": "e3e7c73e",
   "metadata": {},
   "outputs": [
    {
     "name": "stdout",
     "output_type": "stream",
     "text": [
      "Sorting...\n",
      "Sorting complete\n",
      "Time elapsed: 0.005768959876149893\n"
     ]
    }
   ],
   "source": [
    "sort(seq1)"
   ]
  },
  {
   "cell_type": "code",
   "execution_count": 22,
   "id": "eab0fe9a",
   "metadata": {},
   "outputs": [
    {
     "name": "stdout",
     "output_type": "stream",
     "text": [
      "Sorting...\n",
      "Sorting complete\n",
      "Time elapsed: 0.005549047142267227\n"
     ]
    }
   ],
   "source": [
    "sort(seq2)"
   ]
  },
  {
   "cell_type": "code",
   "execution_count": 23,
   "id": "8d340ff9",
   "metadata": {},
   "outputs": [
    {
     "name": "stdout",
     "output_type": "stream",
     "text": [
      "Sorting...\n",
      "Sorting complete\n",
      "Time elapsed: 0.005939983297139406\n"
     ]
    }
   ],
   "source": [
    "sort(seq3)"
   ]
  },
  {
   "cell_type": "markdown",
   "id": "7abf9524",
   "metadata": {},
   "source": [
    "<h3><center>$F_i^e (t)$ is going to be equal to P( T $\\leq$ $t_i$) which is subsequently equal to $i/n$ </center></h3>"
   ]
  },
  {
   "cell_type": "markdown",
   "id": "3a934b8a",
   "metadata": {},
   "source": [
    "### Plotting empirical CDF's"
   ]
  },
  {
   "cell_type": "code",
   "execution_count": 24,
   "id": "9d80bbb0",
   "metadata": {},
   "outputs": [],
   "source": [
    "def emp_cdf(sorted_seq):\n",
    "    y_cdf = []\n",
    "    y_sum = np.sum(sorted_seq)\n",
    "    y_sum_cur = 0\n",
    "    for exp in sorted_seq:\n",
    "        y_sum_cur += exp\n",
    "        y = y_sum_cur/y_sum\n",
    "        y_cdf.append(y)\n",
    "    return np.array(y_cdf)"
   ]
  },
  {
   "cell_type": "code",
   "execution_count": 25,
   "id": "fbc8628e",
   "metadata": {},
   "outputs": [],
   "source": [
    "emp_y1 = emp_cdf(seq1)\n",
    "emp_y2 = emp_cdf(seq2)\n",
    "emp_y3 = emp_cdf(seq3)"
   ]
  },
  {
   "cell_type": "code",
   "execution_count": 28,
   "id": "dbec9d28",
   "metadata": {
    "scrolled": true
   },
   "outputs": [
    {
     "data": {
      "text/plain": [
       "[<matplotlib.lines.Line2D at 0x7f4065972b20>]"
      ]
     },
     "execution_count": 28,
     "metadata": {},
     "output_type": "execute_result"
    },
    {
     "data": {
      "image/png": "[encoded data removed]",
      "text/plain": [
       "<Figure size 432x288 with 1 Axes>"
      ]
     },
     "metadata": {
      "needs_background": "light"
     },
     "output_type": "display_data"
    }
   ],
   "source": [
    "# plotting\n",
    "plt.xlabel('t')\n",
    "plt.ylabel('P(X<=t)')\n",
    "  \n",
    "plt.title('Empirical CDF using sorting data, Tau = 10')\n",
    "plt.plot(seq1, emp_y1)"
   ]
  },
  {
   "cell_type": "code",
   "execution_count": 29,
   "id": "bdce0ed2",
   "metadata": {},
   "outputs": [
    {
     "data": {
      "text/plain": [
       "[<matplotlib.lines.Line2D at 0x7f4065987cd0>]"
      ]
     },
     "execution_count": 29,
     "metadata": {},
     "output_type": "execute_result"
    },
    {
     "data": {
      "image/png": "[encoded data removed]",
      "text/plain": [
       "<Figure size 432x288 with 1 Axes>"
      ]
     },
     "metadata": {
      "needs_background": "light"
     },
     "output_type": "display_data"
    }
   ],
   "source": [
    "# plotting\n",
    "plt.xlabel('t')\n",
    "plt.ylabel('P(X<=t)')\n",
    "  \n",
    "plt.title('Empirical CDF using sorting data, Tau = 15')\n",
    "plt.plot(seq2, emp_y2)"
   ]
  },
  {
   "cell_type": "code",
   "execution_count": 32,
   "id": "545f6fb4",
   "metadata": {},
   "outputs": [
    {
     "data": {
      "text/plain": [
       "[<matplotlib.lines.Line2D at 0x7f4065743580>]"
      ]
     },
     "execution_count": 32,
     "metadata": {},
     "output_type": "execute_result"
    },
    {
     "data": {
      "image/png": "[encoded data removed]",
      "text/plain": [
       "<Figure size 432x288 with 1 Axes>"
      ]
     },
     "metadata": {
      "needs_background": "light"
     },
     "output_type": "display_data"
    }
   ],
   "source": [
    "# plotting\n",
    "plt.xlabel('t')\n",
    "plt.ylabel('P(X<=t)')\n",
    "  \n",
    "plt.title('Empirical CDF using sorting data, Tau = 25')\n",
    "plt.plot(seq3, emp_y3)"
   ]
  },
  {
   "cell_type": "markdown",
   "id": "178baae0",
   "metadata": {},
   "source": [
    "### Plotting the theoretical CDFs"
   ]
  },
  {
   "cell_type": "markdown",
   "id": "4beda9fa",
   "metadata": {},
   "source": [
    "Equation used for theoretical CDFs:<center><h3>\n",
    "P( T $\\leq$ $t_i$) = 1 - exp($-\\lambda$$t_i$)\n",
    "    </h3></center>"
   ]
  },
  {
   "cell_type": "code",
   "execution_count": 39,
   "id": "b73a9094",
   "metadata": {
    "scrolled": true
   },
   "outputs": [
    {
     "data": {
      "image/png": "[encoded data removed]",
      "text/plain": [
       "<Figure size 432x288 with 1 Axes>"
      ]
     },
     "metadata": {
      "needs_background": "light"
     },
     "output_type": "display_data"
    }
   ],
   "source": [
    "\n",
    "#plotting theoretical CDF with seaborn\n",
    "size = 1000\n",
    "sns.ecdfplot(seq1)\n",
    "sns.ecdfplot(np.random.exponential(10, size))\n",
    "\n",
    "plt.xlabel('t')\n",
    "plt.ylabel('P(X<=t)')\n",
    "plt.title('Comparison between empirical CDF and theoretical CDF, Tau = 10')\n",
    "plt.legend([r\"Empirical CDF\", \n",
    "            r\"Theoretical CDF with np.random.exponential\"])\n",
    "plt.show()"
   ]
  },
  {
   "cell_type": "code",
   "execution_count": 40,
   "id": "1e6ee678",
   "metadata": {
    "scrolled": true
   },
   "outputs": [
    {
     "data": {
      "image/png": "[encoded data removed]",
      "text/plain": [
       "<Figure size 432x288 with 1 Axes>"
      ]
     },
     "metadata": {
      "needs_background": "light"
     },
     "output_type": "display_data"
    }
   ],
   "source": [
    "#plotting theoretical CDF with seaborn\n",
    "size = 1000\n",
    "sns.ecdfplot(seq2)\n",
    "sns.ecdfplot(np.random.exponential(15, size))\n",
    "\n",
    "plt.xlabel('t')\n",
    "plt.ylabel('P(X<=t)')\n",
    "plt.title('Comparison between empirical CDF and theoretical CDF, Tau = 15')\n",
    "plt.legend([r\"Empirical CDF\", \n",
    "            r\"Theoretical CDF with np.random.exponential\"])\n",
    "plt.show()"
   ]
  },
  {
   "cell_type": "code",
   "execution_count": 41,
   "id": "b9113573",
   "metadata": {},
   "outputs": [
    {
     "data": {
      "image/png": "[encoded data removed]",
      "text/plain": [
       "<Figure size 432x288 with 1 Axes>"
      ]
     },
     "metadata": {
      "needs_background": "light"
     },
     "output_type": "display_data"
    }
   ],
   "source": [
    "#plotting theoretical CDF with seaborn\n",
    "size = 1000\n",
    "sns.ecdfplot(seq3)\n",
    "sns.ecdfplot(np.random.exponential(25, size))\n",
    "\n",
    "plt.xlabel('t')\n",
    "plt.ylabel('P(X<=t)')\n",
    "plt.title('Comparison between empirical CDF and theoretical CDF, Tau = 25')\n",
    "plt.legend([r\"Empirical CDF\", \n",
    "            r\"Theoretical CDF with np.random.exponential\"])\n",
    "plt.show()"
   ]
  },
  {
   "cell_type": "code",
   "execution_count": null,
   "id": "68eb93a1",
   "metadata": {},
   "outputs": [],
   "source": []
  }
 ],
 "metadata": {
  "kernelspec": {
   "display_name": "Python 3",
   "language": "python",
   "name": "python3"
  },
  "language_info": {
   "codemirror_mode": {
    "name": "ipython",
    "version": 3
   },
   "file_extension": ".py",
   "mimetype": "text/x-python",
   "name": "python",
   "nbconvert_exporter": "python",
   "pygments_lexer": "ipython3",
   "version": "3.8.8"
  }
 },
 "nbformat": 4,
 "nbformat_minor": 5
}
