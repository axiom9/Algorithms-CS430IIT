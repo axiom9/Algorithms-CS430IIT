{
 "cells": [
  {
   "cell_type": "markdown",
   "metadata": {},
   "source": [
    "### CS-430 Homework 2, Anas Puthawala, Yeshwant Vemula, Luna Leing"
   ]
  },
  {
   "cell_type": "code",
   "execution_count": 1,
   "metadata": {},
   "outputs": [],
   "source": [
    "import timeit\n",
    "import matplotlib.pyplot as plt\n",
    "import numpy as np\n",
    "\n",
    "import random\n",
    "from random import randint\n",
    "from datetime import datetime\n",
    "import timeit\n",
    "import math"
   ]
  },
  {
   "cell_type": "code",
   "execution_count": 2,
   "metadata": {},
   "outputs": [],
   "source": [
    "def quicksort(A, p, r):\n",
    "    if p < r:\n",
    "        q = partition(A, p, r)\n",
    "        #print(f'p: {p}     r: {r}     A: {A}') # un-comment this line if you want to see pivots and array after each iteration\n",
    "        quicksort(A, p, q-1)\n",
    "        quicksort(A, q+1, r)"
   ]
  },
  {
   "cell_type": "code",
   "execution_count": 3,
   "metadata": {},
   "outputs": [],
   "source": [
    "def partition(A, p, r):\n",
    "    x = A[r]\n",
    "    i = p-1\n",
    "    for j in range(p, r): #python implementation\n",
    "        if A[j] <= x:\n",
    "            i+=1\n",
    "            A[i], A[j] = A[j], A[i]\n",
    "    A[i+1], A[r] = A[r], A[i+1]\n",
    "\n",
    "    out = i+1\n",
    "    return out"
   ]
  },
  {
   "cell_type": "code",
   "execution_count": 53,
   "metadata": {},
   "outputs": [
    {
     "name": "stdout",
     "output_type": "stream",
     "text": [
      "Quicksort implementation:\n",
      "Array before Quicksort: [24, 97, 40, 67, 88, 85, 15, 66, 53, 44, 26, 48, 16, 52, 45, 23, 90, 18, 49, 80]\n",
      "Array after Quicksort:[15, 16, 18, 23, 24, 26, 40, 44, 45, 48, 49, 52, 53, 66, 67, 80, 85, 88, 90, 97]\n"
     ]
    }
   ],
   "source": [
    "print('Quicksort implementation:')\n",
    "A = [24, 97, 40, 67, 88, 85, 15, 66, 53, 44, 26, 48, 16, 52, 45, 23, 90, 18, 49, 80]\n",
    "print(f'Array before Quicksort: {A}')\n",
    "quicksort(A, p=0, r=len(A)-1)\n",
    "print(f'Array after Quicksort:{A}')"
   ]
  },
  {
   "cell_type": "code",
   "execution_count": 116,
   "metadata": {},
   "outputs": [],
   "source": [
    "# Need to be able to collect data \n",
    "\n",
    "def collect_data(func1, func2, x):\n",
    "    \n",
    "    ns = []\n",
    "    ts = []\n",
    "    \n",
    "    ns2 = []\n",
    "    ts2 = []\n",
    "    for i in range(1, x+1):\n",
    "        ns.append(i)\n",
    "        ns2.append(i)\n",
    "        \n",
    "        # Make a new array of random ints (0-500) of increasing size for which to run the function on (QS or optim. QS)\n",
    "        lst = [random.randint(0,500) for l in range(i)]\n",
    "        \n",
    "        #Collecting time data\n",
    "        start_time = timeit.default_timer() #Collecting time data for function 1\n",
    "        func1(lst, p=0, r=len(lst)-1)\n",
    "        end_time = timeit.default_timer()\n",
    "        ts.append(end_time-start_time)\n",
    "        \n",
    "        st2 = timeit.default_timer() #Code for collecting time for function 2\n",
    "        func2(lst, p=0, r=len(lst)-1)\n",
    "        endt2 = timeit.default_timer()\n",
    "        ts2.append(endt2-st2)\n",
    "        \n",
    "    # visualize results\n",
    "    plt.figure(figsize=(10,5))\n",
    "    plt.plot(ns, ts, 'or') #plotting time complexities for function1 (it will be the red dots)\n",
    "    plt.plot(ns2, ts2, 'ob') #plotting time complexities for function2 (it will be the blue dots)\n",
    "    plt.xlabel('Length of A')\n",
    "    plt.ylabel('Time')\n",
    "    plt.legend(['Optimized Quicksort', 'Quicksort'])\n",
    "    plt.show()\n",
    "    \n"
   ]
  },
  {
   "cell_type": "markdown",
   "metadata": {},
   "source": [
    "Methodology of collecting and analyzing data:\n",
    "\n",
    "(Note I use only 'ns' and 'ts' here but in reality there are two more, 'ns2' and 'ts2' and these are used to plot the data and compare the time complexities between the algorithim, see code above)\n",
    "\n",
    "1. Make new array of random ints (0-500) of increasing size for which to run the function'func' on (Quicksort or Optimized quicksort)\n",
    "\n",
    "2. Collect time data using the timeit python module in variable 'ts' while simultaneously appending the length of the current array to 'ns'\n",
    "\n",
    "3. Output a plot of 'ns' and 'ts'\n",
    "\n",
    "So as the array grows, 'ns' will grow and 'ts' should grow according to the algorithim used to sort it."
   ]
  },
  {
   "cell_type": "markdown",
   "metadata": {},
   "source": [
    "Optimization\n",
    "\n",
    "We can use insertion sort to improve the running time of quicksort by applying tail-recursion. Insertion sort is faster when the input is nearly sorted, so if we call quicksort on a subarray with fewer than 'k' elements we can simply let it return without sorting the subarray and then run insertion sort on the array to finish the sorting process. \n",
    "\n",
    "K in this case was chosen manually to be 10 and we can see from the empirical proof in the plots below that it was a good choice."
   ]
  },
  {
   "cell_type": "code",
   "execution_count": 120,
   "metadata": {},
   "outputs": [],
   "source": [
    "def insertion_sort_2(arr, p, n):\n",
    "    for i in range(p + 1, n + 1):\n",
    "        val = arr[i]\n",
    "        j = i\n",
    "        while j>p and arr[j-1]>val:\n",
    "            arr[j]= arr[j-1]\n",
    "            j-= 1\n",
    "        arr[j]= val\n",
    "        \n",
    "    return arr\n",
    "\n",
    "def optimized_quicksort(A, p, r):\n",
    "    while p<r:\n",
    "        if r-p + 1 < 10:\n",
    "            insertion_sort_2(A, p, r) #Insertion sort call for tail-recursion, k=10 in this case\n",
    "            break\n",
    " \n",
    "        else:\n",
    "            pivot = partition(A, p, r)\n",
    "            if pivot-p<r-pivot:\n",
    "                optimized_quicksort(A, p, pivot-1)\n",
    "                p = pivot + 1\n",
    "            else:\n",
    "                optimized_quicksort(A, pivot + 1, r)\n",
    "                r = pivot-1\n",
    "                \n",
    " #Partioning scheme remains the same in this one (see code above for partition scheme)"
   ]
  },
  {
   "cell_type": "code",
   "execution_count": 117,
   "metadata": {},
   "outputs": [
    {
     "data": {
      "image/png": "[encoded data removed]",
      "text/plain": [
       "<Figure size 720x360 with 1 Axes>"
      ]
     },
     "metadata": {
      "needs_background": "light"
     },
     "output_type": "display_data"
    }
   ],
   "source": [
    "collect_data(func1=optimized_quicksort, func2=quicksort, x=100)"
   ]
  },
  {
   "cell_type": "markdown",
   "metadata": {},
   "source": [
    "And we can run it with x = 1000 to see a clearer picture:"
   ]
  },
  {
   "cell_type": "code",
   "execution_count": 119,
   "metadata": {},
   "outputs": [
    {
     "data": {
      "image/png": "[encoded data removed]",
      "text/plain": [
       "<Figure size 720x360 with 1 Axes>"
      ]
     },
     "metadata": {
      "needs_background": "light"
     },
     "output_type": "display_data"
    }
   ],
   "source": [
    "collect_data(func1=quicksort, func2=optimized_quicksort, x=1000)"
   ]
  }
 ],
 "metadata": {
  "interpreter": {
   "hash": "27e2bf90d9e14c46f33b028c0dd6c4e7836b4da87bdde6d6325e44977f74edb2"
  },
  "kernelspec": {
   "display_name": "Python 3",
   "language": "python",
   "name": "python3"
  },
  "language_info": {
   "codemirror_mode": {
    "name": "ipython",
    "version": 3
   },
   "file_extension": ".py",
   "mimetype": "text/x-python",
   "name": "python",
   "nbconvert_exporter": "python",
   "pygments_lexer": "ipython3",
   "version": "3.8.8"
  }
 },
 "nbformat": 4,
 "nbformat_minor": 2
}
